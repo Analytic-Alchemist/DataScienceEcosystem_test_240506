{
 "cells": [
  {
   "cell_type": "markdown",
   "id": "39e594ae-8ff2-486e-b9e7-f34a0a50617e",
   "metadata": {},
   "source": [
    "# Data Science Tools and Ecosystem"
   ]
  },
  {
   "cell_type": "markdown",
   "id": "43b726ee-3aea-443b-9fbe-be2a83f4daef",
   "metadata": {},
   "source": [
    "In this notebook, Data Science Tools and Ecosystem are summarized. This comprehensive overview encompasses a range of tools, libraries, and frameworks commonly utilized in the field of data science."
   ]
  },
  {
   "cell_type": "markdown",
   "id": "10643be0-8a42-470a-b150-7bbe5b56f3dc",
   "metadata": {},
   "source": [
    "**Objectives:**\n",
    "- list of popular languages in Data Science\n",
    "- list of open source tools used in Data Science\n",
    "- common libraries used in Data Science"
   ]
  },
  {
   "cell_type": "markdown",
   "id": "647f0a8a-21f3-479e-8442-fcb992bac8d0",
   "metadata": {},
   "source": [
    "Some of the popular languages that Data Scientists use are:\n",
    "\n",
    "1. Python\n",
    "2. R\n",
    "3. SQL\n",
    "4. Julia\n",
    "5. Scala"
   ]
  },
  {
   "cell_type": "markdown",
   "id": "8af6eaad-e0a3-4392-8318-4976d84097dc",
   "metadata": {},
   "source": [
    "Some of the commonly used libraries used by Data Scientists include:\n",
    "\n",
    "1. Numpy\n",
    "2. Scikit-Learn\n",
    "3. Matplotlib\n",
    "4. TensorFlow\n",
    "5. Pandas"
   ]
  },
  {
   "cell_type": "markdown",
   "id": "4a7f7bfc-6d00-46be-91d9-b895d5660777",
   "metadata": {},
   "source": [
    "|Data Science Tools|\n",
    "--------------------\n",
    "|Jupyter Notebook|\n",
    "|RStudio|\n",
    "|VS Code|"
   ]
  },
  {
   "cell_type": "markdown",
   "id": "4b96bcf2-2a4e-439d-bb61-c94ef444b8d1",
   "metadata": {},
   "source": [
    "### Below are a few examples of evaluating arithmetic expressions in Python"
   ]
  },
  {
   "cell_type": "code",
   "execution_count": 1,
   "id": "9fbf53cc-81c6-4b69-98d3-c9fbf8841cb4",
   "metadata": {},
   "outputs": [
    {
     "data": {
      "text/plain": [
       "17"
      ]
     },
     "execution_count": 1,
     "metadata": {},
     "output_type": "execute_result"
    }
   ],
   "source": [
    "# This a simple arithmetic expression to mutiply then add integers\n",
    "(3*4)+5"
   ]
  },
  {
   "cell_type": "code",
   "execution_count": 2,
   "id": "24a4ba75-2747-48cf-99a2-094006505d84",
   "metadata": {},
   "outputs": [
    {
     "data": {
      "text/plain": [
       "3.3333333333333335"
      ]
     },
     "execution_count": 2,
     "metadata": {},
     "output_type": "execute_result"
    }
   ],
   "source": [
    "# This will convert 200 minutes to hours by diving by 60\n",
    "200/60"
   ]
  },
  {
   "cell_type": "markdown",
   "id": "61eea372-bf87-4716-9ca7-caf01855144c",
   "metadata": {},
   "source": [
    "## Author\n",
    "Luis Martinez"
   ]
  }
 ],
 "metadata": {
  "kernelspec": {
   "display_name": "Python 3 (ipykernel)",
   "language": "python",
   "name": "python3"
  },
  "language_info": {
   "codemirror_mode": {
    "name": "ipython",
    "version": 3
   },
   "file_extension": ".py",
   "mimetype": "text/x-python",
   "name": "python",
   "nbconvert_exporter": "python",
   "pygments_lexer": "ipython3",
   "version": "3.11.9"
  }
 },
 "nbformat": 4,
 "nbformat_minor": 5
}
